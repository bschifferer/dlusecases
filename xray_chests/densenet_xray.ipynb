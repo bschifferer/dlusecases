{
 "cells": [
  {
   "cell_type": "code",
   "execution_count": 1,
   "metadata": {
    "collapsed": false
   },
   "outputs": [
    {
     "name": "stderr",
     "output_type": "stream",
     "text": [
      "Using TensorFlow backend.\n"
     ]
    }
   ],
   "source": [
    "%matplotlib inline\n",
    "import importlib\n",
    "import cv2\n",
    "import glob\n",
    "import numpy as np\n",
    "import math\n",
    "import matplotlib.pyplot as plt\n",
    "\n",
    "import keras\n",
    "from keras import backend as K\n",
    "from keras.utils.data_utils import get_file\n",
    "from keras.utils import np_utils\n",
    "from keras.utils.np_utils import to_categorical\n",
    "from keras.models import Sequential, Model\n",
    "from keras.layers import Input, Embedding, Reshape, merge, LSTM, Bidirectional, GlobalAveragePooling2D\n",
    "from keras.layers import TimeDistributed, Activation, SimpleRNN, GRU\n",
    "from keras.layers.core import Flatten, Dense, Dropout, Lambda\n",
    "from keras.regularizers import l2, activity_l2, l1, activity_l1\n",
    "from keras.layers.normalization import BatchNormalization\n",
    "from keras.optimizers import SGD, RMSprop, Adam\n",
    "from keras.utils.layer_utils import layer_from_config\n",
    "from keras.metrics import categorical_crossentropy, categorical_accuracy\n",
    "from keras.layers.convolutional import *\n",
    "from keras.preprocessing import image, sequence\n",
    "from keras.preprocessing.text import Tokenizer\n",
    "from keras_tqdm import TQDMNotebookCallback\n",
    "from keras.models import load_model"
   ]
  },
  {
   "cell_type": "code",
   "execution_count": 2,
   "metadata": {
    "collapsed": false
   },
   "outputs": [
    {
     "name": "stdout",
     "output_type": "stream",
     "text": [
      "/home/ubuntu/dlcookbook/dlusecases/xray_chests\n"
     ]
    }
   ],
   "source": [
    "%cd ~/dlcookbook/dlusecases/xray_chests/"
   ]
  },
  {
   "cell_type": "code",
   "execution_count": 3,
   "metadata": {
    "collapsed": true
   },
   "outputs": [],
   "source": [
    "PATH = './data/ChinaSet_AllFiles/CXR_png/'"
   ]
  },
  {
   "cell_type": "markdown",
   "metadata": {},
   "source": [
    "# 1 Summary"
   ]
  },
  {
   "cell_type": "markdown",
   "metadata": {},
   "source": [
    "This notebook creates a DenseNet, which process images of x-ray chests. The implementation can predict if a patient is sick/anamoly with ~70% accuracy. <br><br>The data are part of the Shenzhen Hospital X-ray Set <a href='https://openi.nlm.nih.gov/'>Officiel Site</a> and <a href='http://openi.nlm.nih.gov/imgs/collections/ChinaSet_AllFiles.zip'>Direct download</a>:<br>\n",
    "<ul>\n",
    "  <li>662 XRay Images</li>\n",
    "</ul>\n",
    "<br><br>The main idea is to use the <a href='https://arxiv.org/abs/1608.06993'>DenseNet</a> and train it for XRay Images. The architecture of DenseNet showed that it worked well on small data sets.<br><br>\n",
    "<img src='./src/densenet.jpg'><br><br>\n",
    "\n",
    "The DenseNet is able to learn basic pattern with small amount of data size.\n",
    "\n",
    "Resources:<br>\n",
    "<ul>\n",
    "  <li><a href='https://arxiv.org/abs/1608.06993'>DenseNet</a></li>\n",
    "  <li><a href='https://openi.nlm.nih.gov/'>Open Access Biomedical Image Search Engine</a></li> \n",
    "</ul>\n",
    "\n",
    "\n",
    "Keywords: Deep Learning, DenseNet, XRay, Chest"
   ]
  },
  {
   "cell_type": "markdown",
   "metadata": {},
   "source": [
    "# Data Processing"
   ]
  },
  {
   "cell_type": "code",
   "execution_count": 4,
   "metadata": {
    "collapsed": false
   },
   "outputs": [],
   "source": [
    "fnames = glob.glob(PATH+'*.png')"
   ]
  },
  {
   "cell_type": "code",
   "execution_count": 5,
   "metadata": {
    "collapsed": false
   },
   "outputs": [],
   "source": [
    "lnames = [0 if '_0.png' in x else 1 for x in fnames]"
   ]
  },
  {
   "cell_type": "code",
   "execution_count": 6,
   "metadata": {
    "collapsed": true
   },
   "outputs": [],
   "source": [
    "lnames = np.array(lnames)"
   ]
  },
  {
   "cell_type": "code",
   "execution_count": 7,
   "metadata": {
    "collapsed": true
   },
   "outputs": [],
   "source": [
    "img_sz = (100,100)"
   ]
  },
  {
   "cell_type": "code",
   "execution_count": 8,
   "metadata": {
    "collapsed": true
   },
   "outputs": [],
   "source": [
    "def to_rgb1(im):\n",
    "    w, h = im.shape\n",
    "    ret = np.empty((w, h, 3), dtype=np.uint8)\n",
    "    ret[:, :, 0] = im\n",
    "    ret[:, :, 1] = im\n",
    "    ret[:, :, 2] = im\n",
    "    return ret"
   ]
  },
  {
   "cell_type": "code",
   "execution_count": 9,
   "metadata": {
    "collapsed": false
   },
   "outputs": [],
   "source": [
    "def open_image(fn): return np.array(Image.open(fn).resize(img_sz, Image.NEAREST))"
   ]
  },
  {
   "cell_type": "code",
   "execution_count": 10,
   "metadata": {
    "collapsed": true
   },
   "outputs": [],
   "source": [
    "def open_image(fn): \n",
    "    image = cv2.imread(fn)\n",
    "    image = cv2.resize(image, img_sz)\n",
    "    gray_image = cv2.cvtColor(image, cv2.COLOR_BGR2GRAY)\n",
    "    gray_image = to_rgb1(gray_image)\n",
    "    return gray_image"
   ]
  },
  {
   "cell_type": "code",
   "execution_count": 11,
   "metadata": {
    "collapsed": false
   },
   "outputs": [],
   "source": [
    "imgs = np.stack([open_image(fn) for fn in fnames])"
   ]
  },
  {
   "cell_type": "code",
   "execution_count": 12,
   "metadata": {
    "collapsed": false
   },
   "outputs": [],
   "source": [
    "imgs = imgs/255."
   ]
  },
  {
   "cell_type": "code",
   "execution_count": 13,
   "metadata": {
    "collapsed": false
   },
   "outputs": [],
   "source": [
    "imgs_mean = np.mean(imgs)\n",
    "imgs_var = np.var(imgs)"
   ]
  },
  {
   "cell_type": "code",
   "execution_count": 14,
   "metadata": {
    "collapsed": false
   },
   "outputs": [],
   "source": [
    "imgs-=imgs_mean\n",
    "imgs/=math.sqrt(imgs_var)"
   ]
  },
  {
   "cell_type": "code",
   "execution_count": 15,
   "metadata": {
    "collapsed": false
   },
   "outputs": [],
   "source": [
    "imgs = np.reshape(imgs, (662,100,100,3))"
   ]
  },
  {
   "cell_type": "code",
   "execution_count": 16,
   "metadata": {
    "collapsed": false
   },
   "outputs": [
    {
     "data": {
      "text/plain": [
       "(662, 100, 100, 3)"
      ]
     },
     "execution_count": 16,
     "metadata": {},
     "output_type": "execute_result"
    }
   ],
   "source": [
    "imgs.shape"
   ]
  },
  {
   "cell_type": "code",
   "execution_count": 17,
   "metadata": {
    "collapsed": false
   },
   "outputs": [
    {
     "data": {
      "text/plain": [
       "<matplotlib.image.AxesImage at 0x7f405ae67710>"
      ]
     },
     "execution_count": 17,
     "metadata": {},
     "output_type": "execute_result"
    },
    {
     "data": {
      "image/png": "[encoded data removed]",
      "text/plain": [
       "<matplotlib.figure.Figure at 0x7f40b013b2b0>"
      ]
     },
     "metadata": {},
     "output_type": "display_data"
    }
   ],
   "source": [
    "plt.imshow(np.reshape(imgs[0],(100,100,3)))"
   ]
  },
  {
   "cell_type": "code",
   "execution_count": 18,
   "metadata": {
    "collapsed": false
   },
   "outputs": [],
   "source": [
    "x = np.arange(662)\n",
    "np.random.shuffle(x)"
   ]
  },
  {
   "cell_type": "code",
   "execution_count": 19,
   "metadata": {
    "collapsed": true
   },
   "outputs": [],
   "source": [
    "imgs_train = imgs[x[:500],]\n",
    "lnames_train = lnames[x[:500],]\n",
    "imgs_val = imgs[x[500:],]\n",
    "lnames_val = lnames[x[500:],]"
   ]
  },
  {
   "cell_type": "markdown",
   "metadata": {},
   "source": [
    "# Dense Net"
   ]
  },
  {
   "cell_type": "code",
   "execution_count": 20,
   "metadata": {
    "collapsed": true
   },
   "outputs": [],
   "source": [
    "def relu(x): return Activation('relu')(x)\n",
    "def dropout(x, p): return Dropout(p)(x) if p else x\n",
    "def bn(x): return BatchNormalization(mode=0, axis=-1)(x)\n",
    "def relu_bn(x): return relu(bn(x))"
   ]
  },
  {
   "cell_type": "code",
   "execution_count": 21,
   "metadata": {
    "collapsed": true
   },
   "outputs": [],
   "source": [
    "def conv(x, nf, sz, wd, p):\n",
    "    x = Convolution2D(nf, sz, sz, init='he_uniform', border_mode='same', \n",
    "                          W_regularizer=l2(wd))(x)\n",
    "    return dropout(x,p)"
   ]
  },
  {
   "cell_type": "code",
   "execution_count": 22,
   "metadata": {
    "collapsed": true
   },
   "outputs": [],
   "source": [
    "def conv_block(x, nf, bottleneck=False, p=None, wd=0):\n",
    "    x = relu_bn(x)\n",
    "    if bottleneck: x = relu_bn(conv(x, nf * 4, 1, wd, p))\n",
    "    return conv(x, nf, 3, wd, p)"
   ]
  },
  {
   "cell_type": "code",
   "execution_count": 23,
   "metadata": {
    "collapsed": true
   },
   "outputs": [],
   "source": [
    "def transition_block(x, compression=1.0, p=None, wd=0):\n",
    "    nf = int(x.get_shape().as_list()[-1] * compression)\n",
    "    x = relu_bn(x)\n",
    "    x = conv(x, nf, 1, wd, p)\n",
    "    return AveragePooling2D((2, 2), strides=(2, 2))(x)"
   ]
  },
  {
   "cell_type": "code",
   "execution_count": 24,
   "metadata": {
    "collapsed": true
   },
   "outputs": [],
   "source": [
    "def dense_block(x, nb_layers, growth_rate, bottleneck=False, p=None, wd=0):\n",
    "    if bottleneck: nb_layers //= 2\n",
    "    for i in range(nb_layers):\n",
    "        b = conv_block(x, growth_rate, bottleneck=bottleneck, p=p, wd=wd)\n",
    "        x = merge([x,b], mode='concat', concat_axis=-1)\n",
    "    return x"
   ]
  },
  {
   "cell_type": "code",
   "execution_count": 25,
   "metadata": {
    "collapsed": true
   },
   "outputs": [],
   "source": [
    "def create_dense_net(nb_classes, img_input, depth=40, nb_block=3, \n",
    "     growth_rate=12, nb_filter=16, bottleneck=False, compression=0.0, p=None, wd=0):\n",
    "\n",
    "    assert (depth - 4) % nb_block == 0\n",
    "    nb_layers_per_block = int((depth - 4) / nb_block)\n",
    "    nb_layers = [nb_layers_per_block] * nb_block\n",
    "\n",
    "    x = conv(img_input, nb_filter, 3, wd, 0)\n",
    "    for i,block in enumerate(nb_layers):\n",
    "        x = dense_block(x, block, growth_rate, bottleneck=bottleneck, p=p, wd=wd)\n",
    "        if i != len(nb_layers)-1:\n",
    "            x = transition_block(x, compression=compression, p=p, wd=wd)\n",
    "\n",
    "    x = relu_bn(x)\n",
    "    x = GlobalAveragePooling2D()(x)\n",
    "    return Dense(nb_classes, activation='softmax', W_regularizer=l2(wd))(x)"
   ]
  },
  {
   "cell_type": "code",
   "execution_count": 26,
   "metadata": {
    "collapsed": true
   },
   "outputs": [],
   "source": [
    "input_shape = (100,100,3)"
   ]
  },
  {
   "cell_type": "code",
   "execution_count": 27,
   "metadata": {
    "collapsed": false
   },
   "outputs": [],
   "source": [
    "img_input = Input(shape=input_shape)"
   ]
  },
  {
   "cell_type": "code",
   "execution_count": 28,
   "metadata": {
    "collapsed": false
   },
   "outputs": [],
   "source": [
    "x = create_dense_net(2, img_input, depth=40, nb_filter=16, compression=0.5, bottleneck=True, p=0.2, wd=1e-4)"
   ]
  },
  {
   "cell_type": "code",
   "execution_count": 29,
   "metadata": {
    "collapsed": true
   },
   "outputs": [],
   "source": [
    "model = Model(img_input, x)"
   ]
  },
  {
   "cell_type": "code",
   "execution_count": 30,
   "metadata": {
    "collapsed": false
   },
   "outputs": [],
   "source": [
    "model.compile(loss='sparse_categorical_crossentropy', \n",
    "      optimizer=keras.optimizers.SGD(0.01, 0.9, nesterov=True), metrics=[\"accuracy\"])"
   ]
  },
  {
   "cell_type": "code",
   "execution_count": 31,
   "metadata": {
    "collapsed": false
   },
   "outputs": [
    {
     "name": "stdout",
     "output_type": "stream",
     "text": [
      "____________________________________________________________________________________________________\n",
      "Layer (type)                     Output Shape          Param #     Connected to                     \n",
      "====================================================================================================\n",
      "input_1 (InputLayer)             (None, 100, 100, 3)   0                                            \n",
      "____________________________________________________________________________________________________\n",
      "convolution2d_1 (Convolution2D)  (None, 100, 100, 16)  448         input_1[0][0]                    \n",
      "____________________________________________________________________________________________________\n",
      "batchnormalization_1 (BatchNorma (None, 100, 100, 16)  64          convolution2d_1[0][0]            \n",
      "____________________________________________________________________________________________________\n",
      "activation_1 (Activation)        (None, 100, 100, 16)  0           batchnormalization_1[0][0]       \n",
      "____________________________________________________________________________________________________\n",
      "convolution2d_2 (Convolution2D)  (None, 100, 100, 48)  816         activation_1[0][0]               \n",
      "____________________________________________________________________________________________________\n",
      "dropout_1 (Dropout)              (None, 100, 100, 48)  0           convolution2d_2[0][0]            \n",
      "____________________________________________________________________________________________________\n",
      "batchnormalization_2 (BatchNorma (None, 100, 100, 48)  192         dropout_1[0][0]                  \n",
      "____________________________________________________________________________________________________\n",
      "activation_2 (Activation)        (None, 100, 100, 48)  0           batchnormalization_2[0][0]       \n",
      "____________________________________________________________________________________________________\n",
      "convolution2d_3 (Convolution2D)  (None, 100, 100, 12)  5196        activation_2[0][0]               \n",
      "____________________________________________________________________________________________________\n",
      "dropout_2 (Dropout)              (None, 100, 100, 12)  0           convolution2d_3[0][0]            \n",
      "____________________________________________________________________________________________________\n",
      "merge_1 (Merge)                  (None, 100, 100, 28)  0           convolution2d_1[0][0]            \n",
      "                                                                   dropout_2[0][0]                  \n",
      "____________________________________________________________________________________________________\n",
      "batchnormalization_3 (BatchNorma (None, 100, 100, 28)  112         merge_1[0][0]                    \n",
      "____________________________________________________________________________________________________\n",
      "activation_3 (Activation)        (None, 100, 100, 28)  0           batchnormalization_3[0][0]       \n",
      "____________________________________________________________________________________________________\n",
      "convolution2d_4 (Convolution2D)  (None, 100, 100, 48)  1392        activation_3[0][0]               \n",
      "____________________________________________________________________________________________________\n",
      "dropout_3 (Dropout)              (None, 100, 100, 48)  0           convolution2d_4[0][0]            \n",
      "____________________________________________________________________________________________________\n",
      "batchnormalization_4 (BatchNorma (None, 100, 100, 48)  192         dropout_3[0][0]                  \n",
      "____________________________________________________________________________________________________\n",
      "activation_4 (Activation)        (None, 100, 100, 48)  0           batchnormalization_4[0][0]       \n",
      "____________________________________________________________________________________________________\n",
      "convolution2d_5 (Convolution2D)  (None, 100, 100, 12)  5196        activation_4[0][0]               \n",
      "____________________________________________________________________________________________________\n",
      "dropout_4 (Dropout)              (None, 100, 100, 12)  0           convolution2d_5[0][0]            \n",
      "____________________________________________________________________________________________________\n",
      "merge_2 (Merge)                  (None, 100, 100, 40)  0           merge_1[0][0]                    \n",
      "                                                                   dropout_4[0][0]                  \n",
      "____________________________________________________________________________________________________\n",
      "batchnormalization_5 (BatchNorma (None, 100, 100, 40)  160         merge_2[0][0]                    \n",
      "____________________________________________________________________________________________________\n",
      "activation_5 (Activation)        (None, 100, 100, 40)  0           batchnormalization_5[0][0]       \n",
      "____________________________________________________________________________________________________\n",
      "convolution2d_6 (Convolution2D)  (None, 100, 100, 48)  1968        activation_5[0][0]               \n",
      "____________________________________________________________________________________________________\n",
      "dropout_5 (Dropout)              (None, 100, 100, 48)  0           convolution2d_6[0][0]            \n",
      "____________________________________________________________________________________________________\n",
      "batchnormalization_6 (BatchNorma (None, 100, 100, 48)  192         dropout_5[0][0]                  \n",
      "____________________________________________________________________________________________________\n",
      "activation_6 (Activation)        (None, 100, 100, 48)  0           batchnormalization_6[0][0]       \n",
      "____________________________________________________________________________________________________\n",
      "convolution2d_7 (Convolution2D)  (None, 100, 100, 12)  5196        activation_6[0][0]               \n",
      "____________________________________________________________________________________________________\n",
      "dropout_6 (Dropout)              (None, 100, 100, 12)  0           convolution2d_7[0][0]            \n",
      "____________________________________________________________________________________________________\n",
      "merge_3 (Merge)                  (None, 100, 100, 52)  0           merge_2[0][0]                    \n",
      "                                                                   dropout_6[0][0]                  \n",
      "____________________________________________________________________________________________________\n",
      "batchnormalization_7 (BatchNorma (None, 100, 100, 52)  208         merge_3[0][0]                    \n",
      "____________________________________________________________________________________________________\n",
      "activation_7 (Activation)        (None, 100, 100, 52)  0           batchnormalization_7[0][0]       \n",
      "____________________________________________________________________________________________________\n",
      "convolution2d_8 (Convolution2D)  (None, 100, 100, 48)  2544        activation_7[0][0]               \n",
      "____________________________________________________________________________________________________\n",
      "dropout_7 (Dropout)              (None, 100, 100, 48)  0           convolution2d_8[0][0]            \n",
      "____________________________________________________________________________________________________\n",
      "batchnormalization_8 (BatchNorma (None, 100, 100, 48)  192         dropout_7[0][0]                  \n",
      "____________________________________________________________________________________________________\n",
      "activation_8 (Activation)        (None, 100, 100, 48)  0           batchnormalization_8[0][0]       \n",
      "____________________________________________________________________________________________________\n",
      "convolution2d_9 (Convolution2D)  (None, 100, 100, 12)  5196        activation_8[0][0]               \n",
      "____________________________________________________________________________________________________\n",
      "dropout_8 (Dropout)              (None, 100, 100, 12)  0           convolution2d_9[0][0]            \n",
      "____________________________________________________________________________________________________\n",
      "merge_4 (Merge)                  (None, 100, 100, 64)  0           merge_3[0][0]                    \n",
      "                                                                   dropout_8[0][0]                  \n",
      "____________________________________________________________________________________________________\n",
      "batchnormalization_9 (BatchNorma (None, 100, 100, 64)  256         merge_4[0][0]                    \n",
      "____________________________________________________________________________________________________\n",
      "activation_9 (Activation)        (None, 100, 100, 64)  0           batchnormalization_9[0][0]       \n",
      "____________________________________________________________________________________________________\n",
      "convolution2d_10 (Convolution2D) (None, 100, 100, 48)  3120        activation_9[0][0]               \n",
      "____________________________________________________________________________________________________\n",
      "dropout_9 (Dropout)              (None, 100, 100, 48)  0           convolution2d_10[0][0]           \n",
      "____________________________________________________________________________________________________\n",
      "batchnormalization_10 (BatchNorm (None, 100, 100, 48)  192         dropout_9[0][0]                  \n",
      "____________________________________________________________________________________________________\n",
      "activation_10 (Activation)       (None, 100, 100, 48)  0           batchnormalization_10[0][0]      \n",
      "____________________________________________________________________________________________________\n",
      "convolution2d_11 (Convolution2D) (None, 100, 100, 12)  5196        activation_10[0][0]              \n",
      "____________________________________________________________________________________________________\n",
      "dropout_10 (Dropout)             (None, 100, 100, 12)  0           convolution2d_11[0][0]           \n",
      "____________________________________________________________________________________________________\n",
      "merge_5 (Merge)                  (None, 100, 100, 76)  0           merge_4[0][0]                    \n",
      "                                                                   dropout_10[0][0]                 \n",
      "____________________________________________________________________________________________________\n",
      "batchnormalization_11 (BatchNorm (None, 100, 100, 76)  304         merge_5[0][0]                    \n",
      "____________________________________________________________________________________________________\n",
      "activation_11 (Activation)       (None, 100, 100, 76)  0           batchnormalization_11[0][0]      \n",
      "____________________________________________________________________________________________________\n",
      "convolution2d_12 (Convolution2D) (None, 100, 100, 48)  3696        activation_11[0][0]              \n",
      "____________________________________________________________________________________________________\n",
      "dropout_11 (Dropout)             (None, 100, 100, 48)  0           convolution2d_12[0][0]           \n",
      "____________________________________________________________________________________________________\n",
      "batchnormalization_12 (BatchNorm (None, 100, 100, 48)  192         dropout_11[0][0]                 \n",
      "____________________________________________________________________________________________________\n",
      "activation_12 (Activation)       (None, 100, 100, 48)  0           batchnormalization_12[0][0]      \n",
      "____________________________________________________________________________________________________\n",
      "convolution2d_13 (Convolution2D) (None, 100, 100, 12)  5196        activation_12[0][0]              \n",
      "____________________________________________________________________________________________________\n",
      "dropout_12 (Dropout)             (None, 100, 100, 12)  0           convolution2d_13[0][0]           \n",
      "____________________________________________________________________________________________________\n",
      "merge_6 (Merge)                  (None, 100, 100, 88)  0           merge_5[0][0]                    \n",
      "                                                                   dropout_12[0][0]                 \n",
      "____________________________________________________________________________________________________\n",
      "batchnormalization_13 (BatchNorm (None, 100, 100, 88)  352         merge_6[0][0]                    \n",
      "____________________________________________________________________________________________________\n",
      "activation_13 (Activation)       (None, 100, 100, 88)  0           batchnormalization_13[0][0]      \n",
      "____________________________________________________________________________________________________\n",
      "convolution2d_14 (Convolution2D) (None, 100, 100, 44)  3916        activation_13[0][0]              \n",
      "____________________________________________________________________________________________________\n",
      "dropout_13 (Dropout)             (None, 100, 100, 44)  0           convolution2d_14[0][0]           \n",
      "____________________________________________________________________________________________________\n",
      "averagepooling2d_1 (AveragePooli (None, 50, 50, 44)    0           dropout_13[0][0]                 \n",
      "____________________________________________________________________________________________________\n",
      "batchnormalization_14 (BatchNorm (None, 50, 50, 44)    176         averagepooling2d_1[0][0]         \n",
      "____________________________________________________________________________________________________\n",
      "activation_14 (Activation)       (None, 50, 50, 44)    0           batchnormalization_14[0][0]      \n",
      "____________________________________________________________________________________________________\n",
      "convolution2d_15 (Convolution2D) (None, 50, 50, 48)    2160        activation_14[0][0]              \n",
      "____________________________________________________________________________________________________\n",
      "dropout_14 (Dropout)             (None, 50, 50, 48)    0           convolution2d_15[0][0]           \n",
      "____________________________________________________________________________________________________\n",
      "batchnormalization_15 (BatchNorm (None, 50, 50, 48)    192         dropout_14[0][0]                 \n",
      "____________________________________________________________________________________________________\n",
      "activation_15 (Activation)       (None, 50, 50, 48)    0           batchnormalization_15[0][0]      \n",
      "____________________________________________________________________________________________________\n",
      "convolution2d_16 (Convolution2D) (None, 50, 50, 12)    5196        activation_15[0][0]              \n",
      "____________________________________________________________________________________________________\n",
      "dropout_15 (Dropout)             (None, 50, 50, 12)    0           convolution2d_16[0][0]           \n",
      "____________________________________________________________________________________________________\n",
      "merge_7 (Merge)                  (None, 50, 50, 56)    0           averagepooling2d_1[0][0]         \n",
      "                                                                   dropout_15[0][0]                 \n",
      "____________________________________________________________________________________________________\n",
      "batchnormalization_16 (BatchNorm (None, 50, 50, 56)    224         merge_7[0][0]                    \n",
      "____________________________________________________________________________________________________\n",
      "activation_16 (Activation)       (None, 50, 50, 56)    0           batchnormalization_16[0][0]      \n",
      "____________________________________________________________________________________________________\n",
      "convolution2d_17 (Convolution2D) (None, 50, 50, 48)    2736        activation_16[0][0]              \n",
      "____________________________________________________________________________________________________\n",
      "dropout_16 (Dropout)             (None, 50, 50, 48)    0           convolution2d_17[0][0]           \n",
      "____________________________________________________________________________________________________\n",
      "batchnormalization_17 (BatchNorm (None, 50, 50, 48)    192         dropout_16[0][0]                 \n",
      "____________________________________________________________________________________________________\n",
      "activation_17 (Activation)       (None, 50, 50, 48)    0           batchnormalization_17[0][0]      \n",
      "____________________________________________________________________________________________________\n",
      "convolution2d_18 (Convolution2D) (None, 50, 50, 12)    5196        activation_17[0][0]              \n",
      "____________________________________________________________________________________________________\n",
      "dropout_17 (Dropout)             (None, 50, 50, 12)    0           convolution2d_18[0][0]           \n",
      "____________________________________________________________________________________________________\n",
      "merge_8 (Merge)                  (None, 50, 50, 68)    0           merge_7[0][0]                    \n",
      "                                                                   dropout_17[0][0]                 \n",
      "____________________________________________________________________________________________________\n",
      "batchnormalization_18 (BatchNorm (None, 50, 50, 68)    272         merge_8[0][0]                    \n",
      "____________________________________________________________________________________________________\n",
      "activation_18 (Activation)       (None, 50, 50, 68)    0           batchnormalization_18[0][0]      \n",
      "____________________________________________________________________________________________________\n",
      "convolution2d_19 (Convolution2D) (None, 50, 50, 48)    3312        activation_18[0][0]              \n",
      "____________________________________________________________________________________________________\n",
      "dropout_18 (Dropout)             (None, 50, 50, 48)    0           convolution2d_19[0][0]           \n",
      "____________________________________________________________________________________________________\n",
      "batchnormalization_19 (BatchNorm (None, 50, 50, 48)    192         dropout_18[0][0]                 \n",
      "____________________________________________________________________________________________________\n",
      "activation_19 (Activation)       (None, 50, 50, 48)    0           batchnormalization_19[0][0]      \n",
      "____________________________________________________________________________________________________\n",
      "convolution2d_20 (Convolution2D) (None, 50, 50, 12)    5196        activation_19[0][0]              \n",
      "____________________________________________________________________________________________________\n",
      "dropout_19 (Dropout)             (None, 50, 50, 12)    0           convolution2d_20[0][0]           \n",
      "____________________________________________________________________________________________________\n",
      "merge_9 (Merge)                  (None, 50, 50, 80)    0           merge_8[0][0]                    \n",
      "                                                                   dropout_19[0][0]                 \n",
      "____________________________________________________________________________________________________\n",
      "batchnormalization_20 (BatchNorm (None, 50, 50, 80)    320         merge_9[0][0]                    \n",
      "____________________________________________________________________________________________________\n",
      "activation_20 (Activation)       (None, 50, 50, 80)    0           batchnormalization_20[0][0]      \n",
      "____________________________________________________________________________________________________\n",
      "convolution2d_21 (Convolution2D) (None, 50, 50, 48)    3888        activation_20[0][0]              \n",
      "____________________________________________________________________________________________________\n",
      "dropout_20 (Dropout)             (None, 50, 50, 48)    0           convolution2d_21[0][0]           \n",
      "____________________________________________________________________________________________________\n",
      "batchnormalization_21 (BatchNorm (None, 50, 50, 48)    192         dropout_20[0][0]                 \n",
      "____________________________________________________________________________________________________\n",
      "activation_21 (Activation)       (None, 50, 50, 48)    0           batchnormalization_21[0][0]      \n",
      "____________________________________________________________________________________________________\n",
      "convolution2d_22 (Convolution2D) (None, 50, 50, 12)    5196        activation_21[0][0]              \n",
      "____________________________________________________________________________________________________\n",
      "dropout_21 (Dropout)             (None, 50, 50, 12)    0           convolution2d_22[0][0]           \n",
      "____________________________________________________________________________________________________\n",
      "merge_10 (Merge)                 (None, 50, 50, 92)    0           merge_9[0][0]                    \n",
      "                                                                   dropout_21[0][0]                 \n",
      "____________________________________________________________________________________________________\n",
      "batchnormalization_22 (BatchNorm (None, 50, 50, 92)    368         merge_10[0][0]                   \n",
      "____________________________________________________________________________________________________\n",
      "activation_22 (Activation)       (None, 50, 50, 92)    0           batchnormalization_22[0][0]      \n",
      "____________________________________________________________________________________________________\n",
      "convolution2d_23 (Convolution2D) (None, 50, 50, 48)    4464        activation_22[0][0]              \n",
      "____________________________________________________________________________________________________\n",
      "dropout_22 (Dropout)             (None, 50, 50, 48)    0           convolution2d_23[0][0]           \n",
      "____________________________________________________________________________________________________\n",
      "batchnormalization_23 (BatchNorm (None, 50, 50, 48)    192         dropout_22[0][0]                 \n",
      "____________________________________________________________________________________________________\n",
      "activation_23 (Activation)       (None, 50, 50, 48)    0           batchnormalization_23[0][0]      \n",
      "____________________________________________________________________________________________________\n",
      "convolution2d_24 (Convolution2D) (None, 50, 50, 12)    5196        activation_23[0][0]              \n",
      "____________________________________________________________________________________________________\n",
      "dropout_23 (Dropout)             (None, 50, 50, 12)    0           convolution2d_24[0][0]           \n",
      "____________________________________________________________________________________________________\n",
      "merge_11 (Merge)                 (None, 50, 50, 104)   0           merge_10[0][0]                   \n",
      "                                                                   dropout_23[0][0]                 \n",
      "____________________________________________________________________________________________________\n",
      "batchnormalization_24 (BatchNorm (None, 50, 50, 104)   416         merge_11[0][0]                   \n",
      "____________________________________________________________________________________________________\n",
      "activation_24 (Activation)       (None, 50, 50, 104)   0           batchnormalization_24[0][0]      \n",
      "____________________________________________________________________________________________________\n",
      "convolution2d_25 (Convolution2D) (None, 50, 50, 48)    5040        activation_24[0][0]              \n",
      "____________________________________________________________________________________________________\n",
      "dropout_24 (Dropout)             (None, 50, 50, 48)    0           convolution2d_25[0][0]           \n",
      "____________________________________________________________________________________________________\n",
      "batchnormalization_25 (BatchNorm (None, 50, 50, 48)    192         dropout_24[0][0]                 \n",
      "____________________________________________________________________________________________________\n",
      "activation_25 (Activation)       (None, 50, 50, 48)    0           batchnormalization_25[0][0]      \n",
      "____________________________________________________________________________________________________\n",
      "convolution2d_26 (Convolution2D) (None, 50, 50, 12)    5196        activation_25[0][0]              \n",
      "____________________________________________________________________________________________________\n",
      "dropout_25 (Dropout)             (None, 50, 50, 12)    0           convolution2d_26[0][0]           \n",
      "____________________________________________________________________________________________________\n",
      "merge_12 (Merge)                 (None, 50, 50, 116)   0           merge_11[0][0]                   \n",
      "                                                                   dropout_25[0][0]                 \n",
      "____________________________________________________________________________________________________\n",
      "batchnormalization_26 (BatchNorm (None, 50, 50, 116)   464         merge_12[0][0]                   \n",
      "____________________________________________________________________________________________________\n",
      "activation_26 (Activation)       (None, 50, 50, 116)   0           batchnormalization_26[0][0]      \n",
      "____________________________________________________________________________________________________\n",
      "convolution2d_27 (Convolution2D) (None, 50, 50, 58)    6786        activation_26[0][0]              \n",
      "____________________________________________________________________________________________________\n",
      "dropout_26 (Dropout)             (None, 50, 50, 58)    0           convolution2d_27[0][0]           \n",
      "____________________________________________________________________________________________________\n",
      "averagepooling2d_2 (AveragePooli (None, 25, 25, 58)    0           dropout_26[0][0]                 \n",
      "____________________________________________________________________________________________________\n",
      "batchnormalization_27 (BatchNorm (None, 25, 25, 58)    232         averagepooling2d_2[0][0]         \n",
      "____________________________________________________________________________________________________\n",
      "activation_27 (Activation)       (None, 25, 25, 58)    0           batchnormalization_27[0][0]      \n",
      "____________________________________________________________________________________________________\n",
      "convolution2d_28 (Convolution2D) (None, 25, 25, 48)    2832        activation_27[0][0]              \n",
      "____________________________________________________________________________________________________\n",
      "dropout_27 (Dropout)             (None, 25, 25, 48)    0           convolution2d_28[0][0]           \n",
      "____________________________________________________________________________________________________\n",
      "batchnormalization_28 (BatchNorm (None, 25, 25, 48)    192         dropout_27[0][0]                 \n",
      "____________________________________________________________________________________________________\n",
      "activation_28 (Activation)       (None, 25, 25, 48)    0           batchnormalization_28[0][0]      \n",
      "____________________________________________________________________________________________________\n",
      "convolution2d_29 (Convolution2D) (None, 25, 25, 12)    5196        activation_28[0][0]              \n",
      "____________________________________________________________________________________________________\n",
      "dropout_28 (Dropout)             (None, 25, 25, 12)    0           convolution2d_29[0][0]           \n",
      "____________________________________________________________________________________________________\n",
      "merge_13 (Merge)                 (None, 25, 25, 70)    0           averagepooling2d_2[0][0]         \n",
      "                                                                   dropout_28[0][0]                 \n",
      "____________________________________________________________________________________________________\n",
      "batchnormalization_29 (BatchNorm (None, 25, 25, 70)    280         merge_13[0][0]                   \n",
      "____________________________________________________________________________________________________\n",
      "activation_29 (Activation)       (None, 25, 25, 70)    0           batchnormalization_29[0][0]      \n",
      "____________________________________________________________________________________________________\n",
      "convolution2d_30 (Convolution2D) (None, 25, 25, 48)    3408        activation_29[0][0]              \n",
      "____________________________________________________________________________________________________\n",
      "dropout_29 (Dropout)             (None, 25, 25, 48)    0           convolution2d_30[0][0]           \n",
      "____________________________________________________________________________________________________\n",
      "batchnormalization_30 (BatchNorm (None, 25, 25, 48)    192         dropout_29[0][0]                 \n",
      "____________________________________________________________________________________________________\n",
      "activation_30 (Activation)       (None, 25, 25, 48)    0           batchnormalization_30[0][0]      \n",
      "____________________________________________________________________________________________________\n",
      "convolution2d_31 (Convolution2D) (None, 25, 25, 12)    5196        activation_30[0][0]              \n",
      "____________________________________________________________________________________________________\n",
      "dropout_30 (Dropout)             (None, 25, 25, 12)    0           convolution2d_31[0][0]           \n",
      "____________________________________________________________________________________________________\n",
      "merge_14 (Merge)                 (None, 25, 25, 82)    0           merge_13[0][0]                   \n",
      "                                                                   dropout_30[0][0]                 \n",
      "____________________________________________________________________________________________________\n",
      "batchnormalization_31 (BatchNorm (None, 25, 25, 82)    328         merge_14[0][0]                   \n",
      "____________________________________________________________________________________________________\n",
      "activation_31 (Activation)       (None, 25, 25, 82)    0           batchnormalization_31[0][0]      \n",
      "____________________________________________________________________________________________________\n",
      "convolution2d_32 (Convolution2D) (None, 25, 25, 48)    3984        activation_31[0][0]              \n",
      "____________________________________________________________________________________________________\n",
      "dropout_31 (Dropout)             (None, 25, 25, 48)    0           convolution2d_32[0][0]           \n",
      "____________________________________________________________________________________________________\n",
      "batchnormalization_32 (BatchNorm (None, 25, 25, 48)    192         dropout_31[0][0]                 \n",
      "____________________________________________________________________________________________________\n",
      "activation_32 (Activation)       (None, 25, 25, 48)    0           batchnormalization_32[0][0]      \n",
      "____________________________________________________________________________________________________\n",
      "convolution2d_33 (Convolution2D) (None, 25, 25, 12)    5196        activation_32[0][0]              \n",
      "____________________________________________________________________________________________________\n",
      "dropout_32 (Dropout)             (None, 25, 25, 12)    0           convolution2d_33[0][0]           \n",
      "____________________________________________________________________________________________________\n",
      "merge_15 (Merge)                 (None, 25, 25, 94)    0           merge_14[0][0]                   \n",
      "                                                                   dropout_32[0][0]                 \n",
      "____________________________________________________________________________________________________\n",
      "batchnormalization_33 (BatchNorm (None, 25, 25, 94)    376         merge_15[0][0]                   \n",
      "____________________________________________________________________________________________________\n",
      "activation_33 (Activation)       (None, 25, 25, 94)    0           batchnormalization_33[0][0]      \n",
      "____________________________________________________________________________________________________\n",
      "convolution2d_34 (Convolution2D) (None, 25, 25, 48)    4560        activation_33[0][0]              \n",
      "____________________________________________________________________________________________________\n",
      "dropout_33 (Dropout)             (None, 25, 25, 48)    0           convolution2d_34[0][0]           \n",
      "____________________________________________________________________________________________________\n",
      "batchnormalization_34 (BatchNorm (None, 25, 25, 48)    192         dropout_33[0][0]                 \n",
      "____________________________________________________________________________________________________\n",
      "activation_34 (Activation)       (None, 25, 25, 48)    0           batchnormalization_34[0][0]      \n",
      "____________________________________________________________________________________________________\n",
      "convolution2d_35 (Convolution2D) (None, 25, 25, 12)    5196        activation_34[0][0]              \n",
      "____________________________________________________________________________________________________\n",
      "dropout_34 (Dropout)             (None, 25, 25, 12)    0           convolution2d_35[0][0]           \n",
      "____________________________________________________________________________________________________\n",
      "merge_16 (Merge)                 (None, 25, 25, 106)   0           merge_15[0][0]                   \n",
      "                                                                   dropout_34[0][0]                 \n",
      "____________________________________________________________________________________________________\n",
      "batchnormalization_35 (BatchNorm (None, 25, 25, 106)   424         merge_16[0][0]                   \n",
      "____________________________________________________________________________________________________\n",
      "activation_35 (Activation)       (None, 25, 25, 106)   0           batchnormalization_35[0][0]      \n",
      "____________________________________________________________________________________________________\n",
      "convolution2d_36 (Convolution2D) (None, 25, 25, 48)    5136        activation_35[0][0]              \n",
      "____________________________________________________________________________________________________\n",
      "dropout_35 (Dropout)             (None, 25, 25, 48)    0           convolution2d_36[0][0]           \n",
      "____________________________________________________________________________________________________\n",
      "batchnormalization_36 (BatchNorm (None, 25, 25, 48)    192         dropout_35[0][0]                 \n",
      "____________________________________________________________________________________________________\n",
      "activation_36 (Activation)       (None, 25, 25, 48)    0           batchnormalization_36[0][0]      \n",
      "____________________________________________________________________________________________________\n",
      "convolution2d_37 (Convolution2D) (None, 25, 25, 12)    5196        activation_36[0][0]              \n",
      "____________________________________________________________________________________________________\n",
      "dropout_36 (Dropout)             (None, 25, 25, 12)    0           convolution2d_37[0][0]           \n",
      "____________________________________________________________________________________________________\n",
      "merge_17 (Merge)                 (None, 25, 25, 118)   0           merge_16[0][0]                   \n",
      "                                                                   dropout_36[0][0]                 \n",
      "____________________________________________________________________________________________________\n",
      "batchnormalization_37 (BatchNorm (None, 25, 25, 118)   472         merge_17[0][0]                   \n",
      "____________________________________________________________________________________________________\n",
      "activation_37 (Activation)       (None, 25, 25, 118)   0           batchnormalization_37[0][0]      \n",
      "____________________________________________________________________________________________________\n",
      "convolution2d_38 (Convolution2D) (None, 25, 25, 48)    5712        activation_37[0][0]              \n",
      "____________________________________________________________________________________________________\n",
      "dropout_37 (Dropout)             (None, 25, 25, 48)    0           convolution2d_38[0][0]           \n",
      "____________________________________________________________________________________________________\n",
      "batchnormalization_38 (BatchNorm (None, 25, 25, 48)    192         dropout_37[0][0]                 \n",
      "____________________________________________________________________________________________________\n",
      "activation_38 (Activation)       (None, 25, 25, 48)    0           batchnormalization_38[0][0]      \n",
      "____________________________________________________________________________________________________\n",
      "convolution2d_39 (Convolution2D) (None, 25, 25, 12)    5196        activation_38[0][0]              \n",
      "____________________________________________________________________________________________________\n",
      "dropout_38 (Dropout)             (None, 25, 25, 12)    0           convolution2d_39[0][0]           \n",
      "____________________________________________________________________________________________________\n",
      "merge_18 (Merge)                 (None, 25, 25, 130)   0           merge_17[0][0]                   \n",
      "                                                                   dropout_38[0][0]                 \n",
      "____________________________________________________________________________________________________\n",
      "batchnormalization_39 (BatchNorm (None, 25, 25, 130)   520         merge_18[0][0]                   \n",
      "____________________________________________________________________________________________________\n",
      "activation_39 (Activation)       (None, 25, 25, 130)   0           batchnormalization_39[0][0]      \n",
      "____________________________________________________________________________________________________\n",
      "globalaveragepooling2d_1 (Global (None, 130)           0           activation_39[0][0]              \n",
      "____________________________________________________________________________________________________\n",
      "dense_1 (Dense)                  (None, 2)             262         globalaveragepooling2d_1[0][0]   \n",
      "====================================================================================================\n",
      "Total params: 175,492\n",
      "Trainable params: 170,600\n",
      "Non-trainable params: 4,892\n",
      "____________________________________________________________________________________________________\n"
     ]
    }
   ],
   "source": [
    "model.summary()"
   ]
  },
  {
   "cell_type": "code",
   "execution_count": 32,
   "metadata": {
    "collapsed": false
   },
   "outputs": [
    {
     "name": "stdout",
     "output_type": "stream",
     "text": [
      "\n"
     ]
    },
    {
     "data": {
      "text/plain": [
       "<keras.callbacks.History at 0x7f403544d588>"
      ]
     },
     "execution_count": 32,
     "metadata": {},
     "output_type": "execute_result"
    }
   ],
   "source": [
    "model.fit(imgs_train, lnames_train, batch_size=16, nb_epoch=5, verbose=0, callbacks=[TQDMNotebookCallback(leave_inner=True, leave_outer=True)],  validation_data=(imgs_val, lnames_val))"
   ]
  },
  {
   "cell_type": "code",
   "execution_count": 33,
   "metadata": {
    "collapsed": false
   },
   "outputs": [],
   "source": [
    "K.set_value(model.optimizer.lr, 0.003)"
   ]
  },
  {
   "cell_type": "code",
   "execution_count": 34,
   "metadata": {
    "collapsed": false
   },
   "outputs": [
    {
     "name": "stdout",
     "output_type": "stream",
     "text": [
      "\n"
     ]
    },
    {
     "data": {
      "text/plain": [
       "<keras.callbacks.History at 0x7f408d923278>"
      ]
     },
     "execution_count": 34,
     "metadata": {},
     "output_type": "execute_result"
    }
   ],
   "source": [
    "model.fit(imgs_train, lnames_train, batch_size=16, nb_epoch=5, verbose=0, callbacks=[TQDMNotebookCallback(leave_inner=True, leave_outer=True)],  validation_data=(imgs_val, lnames_val))"
   ]
  }
 ],
 "metadata": {
  "kernelspec": {
   "display_name": "Python 3",
   "language": "python",
   "name": "python3"
  },
  "language_info": {
   "codemirror_mode": {
    "name": "ipython",
    "version": 3
   },
   "file_extension": ".py",
   "mimetype": "text/x-python",
   "name": "python",
   "nbconvert_exporter": "python",
   "pygments_lexer": "ipython3",
   "version": "3.6.0"
  },
  "widgets": {
   "state": {
    "0a61494b43954c168c892e3200b7c7c5": {
     "views": [
      {
       "cell_index": 37
      }
     ]
    },
    "0b6680aba25f4b8f8b3a3515dc619123": {
     "views": [
      {
       "cell_index": 35
      }
     ]
    },
    "124e427577864c09a99e11745053062e": {
     "views": [
      {
       "cell_index": 35
      }
     ]
    },
    "44dfa9ffd42a43a083074cfbd050ae1c": {
     "views": [
      {
       "cell_index": 37
      }
     ]
    },
    "4fa261957d6e431bb1800b66de15341d": {
     "views": [
      {
       "cell_index": 37
      }
     ]
    },
    "50063df22bde43b49678ece9dccc9024": {
     "views": [
      {
       "cell_index": 37
      }
     ]
    },
    "5c4c31d075df445b965c6df3f30da512": {
     "views": [
      {
       "cell_index": 37
      }
     ]
    },
    "66d4c8fe065e43ea9a4c27aea4dc7549": {
     "views": [
      {
       "cell_index": 35
      }
     ]
    },
    "68c95525c215471da6a89488a43795b5": {
     "views": [
      {
       "cell_index": 35
      }
     ]
    },
    "6bcc4ea2675843f49cbd012389828596": {
     "views": [
      {
       "cell_index": 37
      }
     ]
    },
    "6e99e5115b664b68be7bc31166773c13": {
     "views": [
      {
       "cell_index": 35
      }
     ]
    },
    "7b0a8a2bd0f945a69442d83c46cb6278": {
     "views": [
      {
       "cell_index": 35
      }
     ]
    },
    "8d543bf9fad949468e4c4bb10868404e": {
     "views": [
      {
       "cell_index": 35
      }
     ]
    },
    "98e8690aa43d4838a05f2456ad73e4c2": {
     "views": [
      {
       "cell_index": 35
      }
     ]
    },
    "ae704deaa6184928914a14ee1ad746b6": {
     "views": [
      {
       "cell_index": 35
      }
     ]
    },
    "b4f003e900e34c729d7f7cf73dfd227a": {
     "views": [
      {
       "cell_index": 37
      }
     ]
    },
    "b9cb18e6a8754339b0ba2d0c9cca3d2e": {
     "views": [
      {
       "cell_index": 37
      }
     ]
    },
    "d8e8a5fdf5eb4f7c9d4ceb455988ec66": {
     "views": [
      {
       "cell_index": 35
      }
     ]
    },
    "e2e85818be054ea3ab50ed01a62d51e6": {
     "views": [
      {
       "cell_index": 35
      }
     ]
    },
    "fd1017e038d74945bb46e3e1b1057da2": {
     "views": [
      {
       "cell_index": 37
      }
     ]
    }
   },
   "version": "1.2.0"
  }
 },
 "nbformat": 4,
 "nbformat_minor": 2
}
